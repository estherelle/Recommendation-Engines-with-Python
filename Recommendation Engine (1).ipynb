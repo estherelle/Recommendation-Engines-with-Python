{
 "cells": [
  {
   "cell_type": "markdown",
   "metadata": {},
   "source": [
    "# Building A Simple Recommendation Engine With Python"
   ]
  },
  {
   "cell_type": "markdown",
   "metadata": {},
   "source": [
    "A recommendation engine is a great tool when searching for suggestions on a personal basis. In other words, the search results are tailored to the tastes of the user rather than some hard-coded attribute in the results (i.e. date created, keywords, synonyms, location). \n",
    "\n",
    "One example of a recommendation is collaborative filtering. This method uses the historical preferences of a large group of other people to make a decision for you. One example is how Amazon displays similar books: people who liked book A and B also liked book C. Therefore, because you behaved similar to group X in that you liked book A and B, it is not a far leap to assume that you will also like book C. "
   ]
  },
  {
   "cell_type": "markdown",
   "metadata": {},
   "source": [
    "This ipython notebook shows a python example that is adapted from \"Programming Collective Intelligence: Building Smart Web 2.0 Applications.\" You can follow along here if you would like: http://it-ebooks.info/book/330/"
   ]
  },
  {
   "cell_type": "markdown",
   "metadata": {},
   "source": [
    "Before we can give suggestions, we will need a history of preferences. This example shows how seven users felt about 6 movies: Lady in the Water, Snakes on a Plane, Just My Luck, Superman Returns, You, Me and Dupree, and The Night Listener. This is shown below:"
   ]
  },
  {
   "cell_type": "code",
   "execution_count": null,
   "metadata": {
    "collapsed": true
   },
   "outputs": [],
   "source": [
    "# A dictionary of movie critics and their ratings of a small\n",
    "# set of movies\n",
    "critics={'Lisa Rose': {'Lady in the Water': 2.5, 'Snakes on a Plane': 3.5,\n",
    " 'Just My Luck': 3.0, 'Superman Returns': 3.5, 'You, Me and Dupree': 2.5,\n",
    " 'The Night Listener': 3.0},\n",
    "'Gene Seymour': {'Lady in the Water': 3.0, 'Snakes on a Plane': 3.5,\n",
    " 'Just My Luck': 1.5, 'Superman Returns': 5.0, 'The Night Listener': 3.0,\n",
    " 'You, Me and Dupree': 3.5},\n",
    "'Michael Phillips': {'Lady in the Water': 2.5, 'Snakes on a Plane': 3.0,\n",
    " 'Superman Returns': 3.5, 'The Night Listener': 4.0},\n",
    "'Claudia Puig': {'Snakes on a Plane': 3.5, 'Just My Luck': 3.0,\n",
    " 'The Night Listener': 4.5, 'Superman Returns': 4.0,\n",
    " 'You, Me and Dupree': 2.5},\n",
    "'Mick LaSalle': {'Lady in the Water': 3.0, 'Snakes on a Plane': 4.0,\n",
    " 'Just My Luck': 2.0, 'Superman Returns': 3.0, 'The Night Listener': 3.0,\n",
    " 'You, Me and Dupree': 2.0},\n",
    "'Jack Matthews': {'Lady in the Water': 3.0, 'Snakes on a Plane': 4.0,\n",
    " 'The Night Listener': 3.0, 'Superman Returns': 5.0, 'You, Me and Dupree': 3.5},\n",
    "'Toby': {'Snakes on a Plane':4.5,'You, Me and Dupree':1.0,'Superman Returns':4.0}}"
   ]
  },
  {
   "cell_type": "markdown",
   "metadata": {},
   "source": [
    "Now that we have the historical data, we will now need to map out the similarities/differences in our group X. To this, we can calculate the distance between person A and person B based on either the Euclidean distance or Pearson correlation. The euclidean distance is essentially the distance of person A or B to the X/Y axis (with the axis being sort of like the ground truth)."
   ]
  },
  {
   "cell_type": "markdown",
   "metadata": {},
   "source": [
    "Because we have so many people (5), we're not going to go one by one and calculate the distances for everyone. We are going to create a function and a loop to save us the effort. "
   ]
  },
  {
   "cell_type": "code",
   "execution_count": 18,
   "metadata": {
    "collapsed": false
   },
   "outputs": [],
   "source": [
    "def sim_distance(prefs, p1, p2):\n",
    "    '''\n",
    "    Returns a distance-based similarity score for person1 and person2.\n",
    "    '''\n",
    "\n",
    "    # Get the list of shared_items\n",
    "    si = {}\n",
    "    for movie in prefs[p1]:\n",
    "        if movie in prefs[p2]:\n",
    "            si[movie] = 1\n",
    "    # If they have no ratings in common, return 0\n",
    "    if len(si) == 0:\n",
    "        return 0\n",
    "        # Add up the squares of all the differences\n",
    "        sum_of_squares = sum([pow(prefs[p1][movie] - prefs[p2][movie], 2) for movie in\n",
    "                         prefs[p1] if movie in prefs[p2]])\n",
    "    return 1 / (1 + sum_of_squares)"
   ]
  },
  {
   "cell_type": "markdown",
   "metadata": {},
   "source": [
    "**note Programming Collective Intelligence used \"item\" instead of \"movie\" in this function. I felt movie would be more helpful for the reader** Here \"prefs\" refers to our \"critics\" array shown earlier which has the a) user and b) ratings for three movies. p1 and p2 refer to two users. si = {} means a list of our shared items. We've defined function. Now lets give it a whirl. "
   ]
  },
  {
   "cell_type": "code",
   "execution_count": 19,
   "metadata": {
    "collapsed": false
   },
   "outputs": [
    {
     "data": {
      "text/plain": [
       "0.14814814814814814"
      ]
     },
     "execution_count": 19,
     "metadata": {},
     "output_type": "execute_result"
    }
   ],
   "source": [
    "sim_distance(critics, 'Lisa Rose', 'Gene Seymour')"
   ]
  },
  {
   "cell_type": "markdown",
   "metadata": {},
   "source": [
    "To recap what just happened, we inputed our \"prefs\" array and two users Lisa and Gene. We essentially did a loop to calculate the sum_of_squares between Lisa and Gene for a particular movie going to every single movie. "
   ]
  },
  {
   "cell_type": "code",
   "execution_count": null,
   "metadata": {
    "collapsed": true
   },
   "outputs": [],
   "source": [
    "sum_of_squares = sum([pow(prefs[p1][movie] - prefs[p2][movie], 2) for movie in\n",
    "                         prefs[p1] if movie in prefs[p2]])"
   ]
  },
  {
   "cell_type": "markdown",
   "metadata": {},
   "source": [
    "I'm going to create a one_of_squares just to show how one iteration looks like: sum([pow(critics['Lisa Rose']['Lady in the Water'] - critics['Gene Seymour']['Lady in the Water'],2)])"
   ]
  },
  {
   "cell_type": "code",
   "execution_count": 25,
   "metadata": {
    "collapsed": false
   },
   "outputs": [],
   "source": [
    "one_of_squares = sum([pow(critics['Lisa Rose']['Lady in the Water'] - critics['Gene Seymour']['Lady in the Water'], 2)])"
   ]
  },
  {
   "cell_type": "code",
   "execution_count": 26,
   "metadata": {
    "collapsed": false
   },
   "outputs": [
    {
     "data": {
      "text/plain": [
       "0.25"
      ]
     },
     "execution_count": 26,
     "metadata": {},
     "output_type": "execute_result"
    }
   ],
   "source": [
    "one_of_squares"
   ]
  },
  {
   "cell_type": "markdown",
   "metadata": {},
   "source": [
    "Using the Euclidean distance tends not to fit well in data that has not been normalized (i.e. pretty much all data). In other words, if Lisa's definition of a bad film is a 4 and Gene's definition of a good film is a 4, it's clear Lisa's ratings will tend to scew high or for Gene, vice versa. An alternative method is to use a Pearson score. For simplicity, you can read about this further in 'Programming Collective Intelligence'. "
   ]
  },
  {
   "cell_type": "markdown",
   "metadata": {},
   "source": [
    "Now that we are able to understand the similarities between two people, we can now introduce an external agent (i.e. another user) and see how they compare. "
   ]
  },
  {
   "cell_type": "code",
   "execution_count": 35,
   "metadata": {
    "collapsed": false
   },
   "outputs": [],
   "source": [
    "def topMatches(\n",
    "    prefs,\n",
    "    person,\n",
    "    n=5,\n",
    "    similarity=sim_distance,\n",
    "):\n",
    "    '''\n",
    "    Returns the best matches for person from the prefs dictionary. \n",
    "    Number of results and similarity function are optional params.\n",
    "    '''\n",
    "\n",
    "    scores = [(similarity(prefs, person, other), other) for other in prefs\n",
    "              if other != person]\n",
    "    scores.sort()\n",
    "    scores.reverse()\n",
    "    return scores[0:n]"
   ]
  },
  {
   "cell_type": "markdown",
   "metadata": {},
   "source": [
    "To get the \"top matches\" score, we are going to call our sim_distance function we already made earlier for \"other\" person. In this case, that \"other\" will be 'Toby.' \"n\" will be how many scores we want to display. "
   ]
  },
  {
   "cell_type": "code",
   "execution_count": 37,
   "metadata": {
    "collapsed": false
   },
   "outputs": [
    {
     "data": {
      "text/plain": [
       "[(0.3076923076923077, 'Mick LaSalle'),\n",
       " (0.2857142857142857, 'Michael Phillips'),\n",
       " (0.23529411764705882, 'Claudia Puig'),\n",
       " (0.2222222222222222, 'Lisa Rose'),\n",
       " (0.11764705882352941, 'Jack Matthews')]"
      ]
     },
     "execution_count": 37,
     "metadata": {},
     "output_type": "execute_result"
    }
   ],
   "source": [
    "topMatches(critics,'Toby', n=5)"
   ]
  },
  {
   "cell_type": "markdown",
   "metadata": {},
   "source": [
    "Toby is most similar to Mick and least similar to Jack. "
   ]
  },
  {
   "cell_type": "markdown",
   "metadata": {},
   "source": [
    "To find and sort our similarities with other users is one thing. And in some cases, it could be useful in a lot of applications. For example, what if you are a project manager and want to group employees based on their tastes of particular projects? Can you think of any other grouping applications? \n",
    "\n",
    "To create a recommendation engine involves an extra step (i.e. we don't want to know our similarities with other employees, we want to know what other projects we should work on based on other employees' preference on projects). \n",
    "\n",
    "To do this, we will create a function called 'getRecommendations.'"
   ]
  },
  {
   "cell_type": "code",
   "execution_count": 52,
   "metadata": {
    "collapsed": false
   },
   "outputs": [],
   "source": [
    "def getRecommendations(prefs, person, similarity=sim_distance):\n",
    "    '''\n",
    "    Gets recommendations for a person by using a weighted average\n",
    "    of every other user's rankings\n",
    "    '''\n",
    "\n",
    "    totals = {}\n",
    "    simSums = {}\n",
    "    for other in prefs:\n",
    "    # Don't compare me to myself\n",
    "        if other == person:\n",
    "            continue\n",
    "        sim = similarity(prefs, person, other)\n",
    "    # Ignore scores of zero or lower\n",
    "    for item in prefs[other]:\n",
    "        # Only score movies I haven't seen yet\n",
    "        if item not in prefs[person] or prefs[person][item] == 0:\n",
    "            # Similarity * Score\n",
    "            totals.setdefault(item, 0)\n",
    "            # The final score is calculated by multiplying each item by the\n",
    "            #   similarity and adding these products together\n",
    "            totals[item] += prefs[other][item] * sim\n",
    "            # Sum of similarities\n",
    "            simSums.setdefault(item, 0)\n",
    "            simSums[item] += sim\n",
    "    # Create the normalized list\n",
    "    rankings = [(total / simSums[item], item) for (item, total) in\n",
    "                totals.items()]\n",
    "    # Return the sorted list\n",
    "    rankings.sort()\n",
    "    rankings.reverse()\n",
    "    return rankings"
   ]
  },
  {
   "cell_type": "markdown",
   "metadata": {},
   "source": [
    "The for loop goes through every other person in our critics dictionary and calculates how similar they are to the person specified. In our case, we are that specified person - 'toby.' Let's give it a whirl. We are 'toby' and as you can see, we've only reviewed three movies and have no idea what other movies we may like."
   ]
  },
  {
   "cell_type": "code",
   "execution_count": 53,
   "metadata": {
    "collapsed": false
   },
   "outputs": [
    {
     "data": {
      "text/plain": [
       "[(4.0, 'The Night Listener'), (2.5, 'Lady in the Water')]"
      ]
     },
     "execution_count": 53,
     "metadata": {},
     "output_type": "execute_result"
    }
   ],
   "source": [
    "getRecommendations(critics,'Toby', similarity=sim_distance)"
   ]
  },
  {
   "cell_type": "markdown",
   "metadata": {},
   "source": [
    "Not only did we get a great idea of what movies we may like. But, we also got a prediction of what our rating of these movies would be. We would moderately like the 'The Night Listener' and not like the 'Lady in the Water' (based on the experiences of the other movie watchers."
   ]
  },
  {
   "cell_type": "markdown",
   "metadata": {},
   "source": [
    "...and that's it we've built our first recommendation engine. Feel free to try it using your own dictionary at the beginning of this tutorial. You can also import a .csv and watch how much better the recommender may perform when the reviews scale."
   ]
  },
  {
   "cell_type": "code",
   "execution_count": null,
   "metadata": {
    "collapsed": true
   },
   "outputs": [],
   "source": []
  }
 ],
 "metadata": {
  "kernelspec": {
   "display_name": "Python 2",
   "language": "python",
   "name": "python2"
  },
  "language_info": {
   "codemirror_mode": {
    "name": "ipython",
    "version": 2
   },
   "file_extension": ".py",
   "mimetype": "text/x-python",
   "name": "python",
   "nbconvert_exporter": "python",
   "pygments_lexer": "ipython2",
   "version": "2.7.10"
  }
 },
 "nbformat": 4,
 "nbformat_minor": 0
}
